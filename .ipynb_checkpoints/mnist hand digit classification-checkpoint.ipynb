{
 "cells": [
  {
   "cell_type": "code",
   "execution_count": 10,
   "id": "aa6cf9b9-c539-444a-9ca1-aa61e0bba190",
   "metadata": {},
   "outputs": [
    {
     "name": "stdout",
     "output_type": "stream",
     "text": [
      "(60000, 28, 28) (60000,)\n"
     ]
    }
   ],
   "source": [
    "import keras\n",
    "from keras.datasets import mnist\n",
    "from keras.models import Sequential\n",
    "from keras.layers import Dense, Dropout, Flatten\n",
    "from keras.layers import Conv2D, MaxPooling2D\n",
    "from keras import backend as K\n",
    "from keras.utils.np_utils import to_categorical\n",
    "\n",
    "\n",
    "# the data, split between train and test sets\n",
    "(x_train, y_train), (x_test, y_test) = mnist.load_data()\n",
    "\n",
    "print(x_train.shape, y_train.shape)"
   ]
  },
  {
   "cell_type": "code",
   "execution_count": 11,
   "id": "fefb20b4-1b63-468b-bd4c-8967127cbb2a",
   "metadata": {},
   "outputs": [],
   "source": [
    "batch_size = 128\n",
    "num_classes = 10\n",
    "epochs =50\n"
   ]
  },
  {
   "cell_type": "code",
   "execution_count": 12,
   "id": "11c4f59c-93d3-416c-8613-66fea0689ed0",
   "metadata": {},
   "outputs": [
    {
     "name": "stdout",
     "output_type": "stream",
     "text": [
      "x_train shape: (60000, 28, 28, 1)\n",
      "60000 train samples\n",
      "10000 test samples\n"
     ]
    }
   ],
   "source": [
    "x_train = x_train.reshape(x_train.shape[0], 28, 28, 1)\n",
    "x_test = x_test.reshape(x_test.shape[0], 28, 28, 1)\n",
    "input_shape = (28, 28, 1)\n",
    "\n",
    "# convert class vectors to binary class matrices\n",
    "y_train =to_categorical(y_train, num_classes)\n",
    "y_test = to_categorical(y_test, num_classes)\n",
    "\n",
    "x_train = x_train.astype('float32')\n",
    "x_test = x_test.astype('float32')\n",
    "x_train /= 255\n",
    "x_test /= 255\n",
    "print('x_train shape:', x_train.shape)\n",
    "print(x_train.shape[0], 'train samples')\n",
    "print(x_test.shape[0], 'test samples')"
   ]
  },
  {
   "cell_type": "code",
   "execution_count": 13,
   "id": "a071ab73-aa7c-4c44-9814-42401814c3cb",
   "metadata": {},
   "outputs": [],
   "source": [
    "\n",
    "model = Sequential()\n",
    "model.add(Conv2D(32, kernel_size=(3, 3),activation='relu',input_shape=input_shape))\n",
    "model.add(Conv2D(64, (3, 3), activation='relu'))\n",
    "model.add(MaxPooling2D(pool_size=(2, 2)))\n",
    "model.add(Dropout(0.25))\n",
    "model.add(Flatten())\n",
    "model.add(Dense(256, activation='relu'))\n",
    "model.add(Dropout(0.5))\n",
    "model.add(Dense(num_classes, activation='softmax'))\n",
    "\n",
    "model.compile(loss=keras.losses.categorical_crossentropy,optimizer=\"adam\",metrics=['accuracy'])"
   ]
  },
  {
   "cell_type": "code",
   "execution_count": 14,
   "id": "72d0a7af-e340-474d-bc51-de7cd6e64a0d",
   "metadata": {},
   "outputs": [
    {
     "name": "stdout",
     "output_type": "stream",
     "text": [
      "Epoch 1/50\n",
      "469/469 [==============================] - 65s 127ms/step - loss: 0.3932 - accuracy: 0.8784 - val_loss: 0.0496 - val_accuracy: 0.9842\n",
      "Epoch 2/50\n",
      "469/469 [==============================] - 57s 122ms/step - loss: 0.0673 - accuracy: 0.9800 - val_loss: 0.0335 - val_accuracy: 0.9887\n",
      "Epoch 3/50\n",
      "469/469 [==============================] - 59s 126ms/step - loss: 0.0412 - accuracy: 0.9865 - val_loss: 0.0307 - val_accuracy: 0.9892\n",
      "Epoch 4/50\n",
      "469/469 [==============================] - 57s 122ms/step - loss: 0.0377 - accuracy: 0.9882 - val_loss: 0.0283 - val_accuracy: 0.9905\n",
      "Epoch 5/50\n",
      "469/469 [==============================] - 56s 120ms/step - loss: 0.0310 - accuracy: 0.9898 - val_loss: 0.0278 - val_accuracy: 0.9909\n",
      "Epoch 6/50\n",
      "469/469 [==============================] - 56s 120ms/step - loss: 0.0259 - accuracy: 0.9912 - val_loss: 0.0318 - val_accuracy: 0.9904\n",
      "Epoch 7/50\n",
      "469/469 [==============================] - 56s 119ms/step - loss: 0.0245 - accuracy: 0.9919 - val_loss: 0.0292 - val_accuracy: 0.9915\n",
      "Epoch 8/50\n",
      "469/469 [==============================] - 57s 122ms/step - loss: 0.0212 - accuracy: 0.9939 - val_loss: 0.0311 - val_accuracy: 0.9911\n",
      "Epoch 9/50\n",
      "469/469 [==============================] - 57s 123ms/step - loss: 0.0192 - accuracy: 0.9937 - val_loss: 0.0309 - val_accuracy: 0.9913\n",
      "Epoch 10/50\n",
      "469/469 [==============================] - 58s 124ms/step - loss: 0.0159 - accuracy: 0.9947 - val_loss: 0.0337 - val_accuracy: 0.9910\n",
      "Epoch 11/50\n",
      "469/469 [==============================] - 58s 124ms/step - loss: 0.0169 - accuracy: 0.9943 - val_loss: 0.0292 - val_accuracy: 0.9919\n",
      "Epoch 12/50\n",
      "469/469 [==============================] - 59s 125ms/step - loss: 0.0113 - accuracy: 0.9961 - val_loss: 0.0305 - val_accuracy: 0.9923\n",
      "Epoch 13/50\n",
      "469/469 [==============================] - 57s 121ms/step - loss: 0.0129 - accuracy: 0.9957 - val_loss: 0.0337 - val_accuracy: 0.9918\n",
      "Epoch 14/50\n",
      "469/469 [==============================] - 59s 125ms/step - loss: 0.0106 - accuracy: 0.9963 - val_loss: 0.0341 - val_accuracy: 0.9923\n",
      "Epoch 15/50\n",
      "469/469 [==============================] - 60s 128ms/step - loss: 0.0134 - accuracy: 0.9959 - val_loss: 0.0320 - val_accuracy: 0.9916\n",
      "Epoch 16/50\n",
      "469/469 [==============================] - 57s 122ms/step - loss: 0.0109 - accuracy: 0.9960 - val_loss: 0.0336 - val_accuracy: 0.9923\n",
      "Epoch 17/50\n",
      "469/469 [==============================] - 57s 120ms/step - loss: 0.0096 - accuracy: 0.9967 - val_loss: 0.0372 - val_accuracy: 0.9929\n",
      "Epoch 18/50\n",
      "469/469 [==============================] - 58s 124ms/step - loss: 0.0087 - accuracy: 0.9969 - val_loss: 0.0345 - val_accuracy: 0.9909\n",
      "Epoch 19/50\n",
      "469/469 [==============================] - 57s 121ms/step - loss: 0.0105 - accuracy: 0.9961 - val_loss: 0.0362 - val_accuracy: 0.9912\n",
      "Epoch 20/50\n",
      "469/469 [==============================] - 57s 122ms/step - loss: 0.0078 - accuracy: 0.9973 - val_loss: 0.0303 - val_accuracy: 0.9935\n",
      "Epoch 21/50\n",
      "469/469 [==============================] - 58s 124ms/step - loss: 0.0091 - accuracy: 0.9972 - val_loss: 0.0302 - val_accuracy: 0.9928\n",
      "Epoch 22/50\n",
      "469/469 [==============================] - 58s 124ms/step - loss: 0.0082 - accuracy: 0.9971 - val_loss: 0.0396 - val_accuracy: 0.9902\n",
      "Epoch 23/50\n",
      "469/469 [==============================] - 57s 122ms/step - loss: 0.0091 - accuracy: 0.9969 - val_loss: 0.0304 - val_accuracy: 0.9933\n",
      "Epoch 24/50\n",
      "469/469 [==============================] - 58s 123ms/step - loss: 0.0065 - accuracy: 0.9979 - val_loss: 0.0326 - val_accuracy: 0.9926\n",
      "Epoch 25/50\n",
      "469/469 [==============================] - 58s 124ms/step - loss: 0.0088 - accuracy: 0.9969 - val_loss: 0.0382 - val_accuracy: 0.9911\n",
      "Epoch 26/50\n",
      "469/469 [==============================] - 58s 124ms/step - loss: 0.0068 - accuracy: 0.9980 - val_loss: 0.0306 - val_accuracy: 0.9926\n",
      "Epoch 27/50\n",
      "469/469 [==============================] - 58s 124ms/step - loss: 0.0057 - accuracy: 0.9977 - val_loss: 0.0334 - val_accuracy: 0.9928\n",
      "Epoch 28/50\n",
      "469/469 [==============================] - 58s 125ms/step - loss: 0.0069 - accuracy: 0.9975 - val_loss: 0.0294 - val_accuracy: 0.9925\n",
      "Epoch 29/50\n",
      "469/469 [==============================] - 59s 127ms/step - loss: 0.0060 - accuracy: 0.9979 - val_loss: 0.0297 - val_accuracy: 0.9932\n",
      "Epoch 30/50\n",
      "469/469 [==============================] - 67s 142ms/step - loss: 0.0057 - accuracy: 0.9982 - val_loss: 0.0349 - val_accuracy: 0.9925\n",
      "Epoch 31/50\n",
      "469/469 [==============================] - 67s 142ms/step - loss: 0.0044 - accuracy: 0.9985 - val_loss: 0.0347 - val_accuracy: 0.9943\n",
      "Epoch 32/50\n",
      "469/469 [==============================] - 64s 135ms/step - loss: 0.0062 - accuracy: 0.9979 - val_loss: 0.0349 - val_accuracy: 0.9927\n",
      "Epoch 33/50\n",
      "469/469 [==============================] - 64s 136ms/step - loss: 0.0065 - accuracy: 0.9977 - val_loss: 0.0354 - val_accuracy: 0.9933\n",
      "Epoch 34/50\n",
      "469/469 [==============================] - 58s 124ms/step - loss: 0.0068 - accuracy: 0.9978 - val_loss: 0.0364 - val_accuracy: 0.9932\n",
      "Epoch 35/50\n",
      "469/469 [==============================] - 62s 132ms/step - loss: 0.0055 - accuracy: 0.9983 - val_loss: 0.0351 - val_accuracy: 0.9933\n",
      "Epoch 36/50\n",
      "469/469 [==============================] - 61s 129ms/step - loss: 0.0055 - accuracy: 0.9981 - val_loss: 0.0412 - val_accuracy: 0.9923\n",
      "Epoch 37/50\n",
      "469/469 [==============================] - 58s 125ms/step - loss: 0.0053 - accuracy: 0.9982 - val_loss: 0.0453 - val_accuracy: 0.9921\n",
      "Epoch 38/50\n",
      "469/469 [==============================] - 58s 124ms/step - loss: 0.0061 - accuracy: 0.9977 - val_loss: 0.0396 - val_accuracy: 0.9928\n",
      "Epoch 39/50\n",
      "469/469 [==============================] - 60s 128ms/step - loss: 0.0046 - accuracy: 0.9985 - val_loss: 0.0378 - val_accuracy: 0.9926\n",
      "Epoch 40/50\n",
      "469/469 [==============================] - 57s 122ms/step - loss: 0.0044 - accuracy: 0.9987 - val_loss: 0.0391 - val_accuracy: 0.9928\n",
      "Epoch 41/50\n",
      "469/469 [==============================] - 56s 119ms/step - loss: 0.0031 - accuracy: 0.9989 - val_loss: 0.0404 - val_accuracy: 0.9930\n",
      "Epoch 42/50\n",
      "469/469 [==============================] - 56s 120ms/step - loss: 0.0057 - accuracy: 0.9982 - val_loss: 0.0361 - val_accuracy: 0.9932\n",
      "Epoch 43/50\n",
      "469/469 [==============================] - 57s 121ms/step - loss: 0.0045 - accuracy: 0.9985 - val_loss: 0.0374 - val_accuracy: 0.9928\n",
      "Epoch 44/50\n",
      "469/469 [==============================] - 56s 120ms/step - loss: 0.0044 - accuracy: 0.9987 - val_loss: 0.0351 - val_accuracy: 0.9930\n",
      "Epoch 45/50\n",
      "469/469 [==============================] - 60s 129ms/step - loss: 0.0030 - accuracy: 0.9990 - val_loss: 0.0378 - val_accuracy: 0.9935\n",
      "Epoch 46/50\n",
      "469/469 [==============================] - 60s 128ms/step - loss: 0.0042 - accuracy: 0.9984 - val_loss: 0.0384 - val_accuracy: 0.9927\n",
      "Epoch 47/50\n",
      "469/469 [==============================] - 59s 125ms/step - loss: 0.0046 - accuracy: 0.9987 - val_loss: 0.0379 - val_accuracy: 0.9923\n",
      "Epoch 48/50\n",
      "469/469 [==============================] - 59s 125ms/step - loss: 0.0064 - accuracy: 0.9981 - val_loss: 0.0418 - val_accuracy: 0.9926\n",
      "Epoch 49/50\n",
      "469/469 [==============================] - 60s 128ms/step - loss: 0.0027 - accuracy: 0.9990 - val_loss: 0.0505 - val_accuracy: 0.9928\n",
      "Epoch 50/50\n",
      "469/469 [==============================] - 61s 130ms/step - loss: 0.0040 - accuracy: 0.9988 - val_loss: 0.0387 - val_accuracy: 0.9927\n",
      "The model has successfully trained\n"
     ]
    }
   ],
   "source": [
    "hist = model.fit(x_train, y_train,batch_size=batch_size,epochs=epochs,verbose=1,validation_data=(x_test, y_test))\n",
    "print(\"The model has successfully trained\")\n",
    "\n",
    "model.save('mnist50.h5')"
   ]
  },
  {
   "cell_type": "code",
   "execution_count": 15,
   "id": "b2a8af7f-ab2b-4b5a-bbc6-5e8a022d8c97",
   "metadata": {},
   "outputs": [
    {
     "name": "stdout",
     "output_type": "stream",
     "text": [
      "Test loss: 0.03874516114592552\n",
      "Test accuracy: 0.9926999807357788\n"
     ]
    }
   ],
   "source": [
    "score = model.evaluate(x_test, y_test, verbose=0)\n",
    "print('Test loss:', score[0])\n",
    "print('Test accuracy:', score[1])"
   ]
  },
  {
   "cell_type": "code",
   "execution_count": 17,
   "id": "27b65024-c880-44df-880b-50bb64e7ea9c",
   "metadata": {},
   "outputs": [
    {
     "data": {
      "image/png": "[encoded data removed]",
      "text/plain": [
       "<Figure size 432x288 with 1 Axes>"
      ]
     },
     "metadata": {
      "needs_background": "light"
     },
     "output_type": "display_data"
    },
    {
     "data": {
      "image/png": "[encoded data removed]",
      "text/plain": [
       "<Figure size 432x288 with 1 Axes>"
      ]
     },
     "metadata": {
      "needs_background": "light"
     },
     "output_type": "display_data"
    }
   ],
   "source": [
    "import matplotlib.pyplot as plt\n",
    "\n",
    "\n",
    "plt.figure(1)\n",
    "loss=hist.history['loss']\n",
    "val_loss=hist.history['val_loss']\n",
    "epochs=range(1,len(loss)+1)\n",
    "plt.plot(epochs, loss, 'y')\n",
    "plt.plot(epochs, val_loss, 'r')\n",
    "plt.legend(labels=['Train', 'Test'])\n",
    "plt.title('Train and Test Loss')\n",
    "plt.xlabel('epochs')\n",
    "plt.ylabel('loss')\n",
    "\n",
    "\n",
    "plt.figure(2)\n",
    "acc=hist.history['accuracy']\n",
    "val_acc=hist.history['val_accuracy']\n",
    "epochs=range(1,len(loss)+1)\n",
    "plt.plot(epochs, acc, 'y')\n",
    "plt.plot(epochs, val_acc, 'r')\n",
    "plt.legend(labels=['Train', 'Test'])\n",
    "plt.title('Train and Test accuracy')\n",
    "plt.xlabel('epochs')\n",
    "plt.ylabel('accuracy')\n",
    "\n",
    "plt.show()"
   ]
  },
  {
   "cell_type": "code",
   "execution_count": 19,
   "id": "c4722742-43a0-40ed-ace6-bb8f2cc9339f",
   "metadata": {},
   "outputs": [],
   "source": [
    "from keras.models import load_model\n",
    "from tkinter import *\n",
    "import tkinter as tk\n",
    "import win32gui\n",
    "from PIL import ImageGrab, Image, ImageOps\n",
    "import numpy as np\n",
    "\n",
    "model = load_model('mnist50.h5')\n",
    "\n",
    "def predict_digit(img):\n",
    "    #img=img.crop((10,0,450,450))\n",
    "    #resize image to 28x28 pixels\n",
    "    img = img.resize((28,28))\n",
    "    #convert rgb to grayscale\n",
    "    img=ImageOps.invert(img)\n",
    "    \n",
    "    img = img.convert('L')\n",
    "    #img.show()\n",
    "    img = np.array(img)\n",
    "    #reshaping to support our model input and normalizing\n",
    "    img = img.reshape(1,28,28,1)\n",
    "    img = img/255.0\n",
    "    #predicting the class\n",
    "    res = model.predict([img])[0]\n",
    "    return np.argmax(res), max(res)\n",
    "\n",
    "class App(tk.Tk):\n",
    "    def __init__(self):\n",
    "        tk.Tk.__init__(self)\n",
    "\n",
    "        self.x = self.y = 0\n",
    "\n",
    "        # Creating elements\n",
    "        self.canvas = tk.Canvas(self, width=300, height=300, bg = \"white\", cursor=\"cross\")\n",
    "        self.label = tk.Label(self, text=\"Thinking..\", font=(\"Helvetica\", 48))\n",
    "        self.classify_btn = tk.Button(self, text = \"PREDICT\", command =self.classify_handwriting) \n",
    "        self.button_clear = tk.Button(self, text = \"CLEAR\", command = self.clear_all)\n",
    "\n",
    "        # Grid structure\n",
    "        self.canvas.grid(row=0, column=0, pady=2, sticky=W, )\n",
    "        self.label.grid(row=0, column=1,pady=2, padx=2)\n",
    "        self.classify_btn.grid(row=1, column=1, pady=2, padx=2)\n",
    "        self.button_clear.grid(row=1, column=0, pady=2)\n",
    "\n",
    "        #self.canvas.bind(\"<Motion>\", self.start_pos)\n",
    "        self.canvas.bind(\"<B1-Motion>\", self.draw_lines)\n",
    "\n",
    "    def clear_all(self):\n",
    "        self.canvas.delete(\"all\")\n",
    "\n",
    "    def classify_handwriting(self):\n",
    "        HWND = self.canvas.winfo_id() # get the handle of the canvas\n",
    "        rect = win32gui.GetWindowRect(HWND) # get the coordinate of the canvas\n",
    "        x=rect[0]+40\n",
    "        y=rect[1]+40\n",
    "        im = ImageGrab.grab((x,y,x+300,y+300))\n",
    "        #im = ImageGrab.grab(rect)\n",
    "        #im.show()\n",
    "        digit, acc = predict_digit(im)\n",
    "        self.label.configure(text= str(digit)+', '+ str(int(acc*100))+'%')\n",
    "        \n",
    "        \n",
    "\n",
    "        digit, acc = predict_digit(im)\n",
    "        self.label.configure(text= str(digit)+', '+ str(int(acc*100))+'%')\n",
    "\n",
    "    def draw_lines(self, event):\n",
    "        self.x = event.x\n",
    "        self.y = event.y\n",
    "        r=10\n",
    "        self.canvas.create_oval(self.x-r, self.y-r, self.x + r, self.y + r, fill='black')\n",
    "\n",
    "app = App()\n",
    "mainloop()"
   ]
  },
  {
   "cell_type": "code",
   "execution_count": null,
   "id": "8319202f-bbee-4267-8c75-ee6299b0206f",
   "metadata": {},
   "outputs": [],
   "source": [
    "import cv2\n",
    "import numpy as np\n",
    "import pickle\n",
    "from keras.models import load_model\n",
    "\n",
    "width=640\n",
    "height=480\n",
    "threshold=0.65\n",
    "\n",
    "cap=cv2.VideoCapture(0)\n",
    "cap.set(3,width)\n",
    "cap.set(4,height)\n",
    "model = load_model('mnist.h5')\n",
    "\n",
    "def preprocessing(img):\n",
    "    img=cv2.cvtColor(img,cv2.COLOR_BGR2GRAY)\n",
    "    img=cv2.equalizeHist(img)\n",
    "    img=img/255\n",
    "    return img\n",
    "\n",
    "while True:\n",
    "    success,imgOriginal=cap.read()\n",
    "    img=np.array(imgOriginal)\n",
    "    img=cv2.resize(img,(28,28))\n",
    "    img=preprocessing(img)\n",
    "    img=img.reshape(1,28,28,1)\n",
    "    #predict\n",
    "    classindex=int(model.predict_classes(img))\n",
    "    pred=model.predict(img)\n",
    "    probVal=np.argmax(pred)\n",
    "    \n",
    "    if probVal>threshold:\n",
    "        cv2.putText(imgOriginal,str(classindex)+' '+str(probVal),(50,50),cv2.FONT_HERSHEY_COMPLEX,1,(0,0,255),1)\n",
    "        \n",
    "    cv2.imshow('orig',imgOriginal)\n",
    "    \n",
    "    if cv2.waitKey(1) & 0xFF==ord('q'):\n",
    "        break\n",
    "        "
   ]
  },
  {
   "cell_type": "code",
   "execution_count": null,
   "id": "c782e23a-648f-4589-8cfd-211468317a82",
   "metadata": {},
   "outputs": [],
   "source": []
  }
 ],
 "metadata": {
  "kernelspec": {
   "display_name": "Python 3 (ipykernel)",
   "language": "python",
   "name": "python3"
  },
  "language_info": {
   "codemirror_mode": {
    "name": "ipython",
    "version": 3
   },
   "file_extension": ".py",
   "mimetype": "text/x-python",
   "name": "python",
   "nbconvert_exporter": "python",
   "pygments_lexer": "ipython3",
   "version": "3.9.6"
  }
 },
 "nbformat": 4,
 "nbformat_minor": 5
}
